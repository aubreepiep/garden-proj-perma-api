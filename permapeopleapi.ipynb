{
 "cells": [
  {
   "cell_type": "code",
   "execution_count": null,
   "id": "d9a441ff-b57a-484b-8075-4f5824de9b02",
   "metadata": {},
   "outputs": [],
   "source": [
    "from dotenv import load_dotenv\n",
    "load_dotenv()"
   ]
  },
  {
   "cell_type": "code",
   "execution_count": null,
   "id": "d6766e07-4bce-43ec-be30-361530762bc4",
   "metadata": {},
   "outputs": [],
   "source": [
    "import os\n",
    "\n",
    "api_key = os.getenv('PP_API_KEY')"
   ]
  },
  {
   "cell_type": "code",
   "execution_count": null,
   "id": "207c42ac-f1f7-43e6-8221-6e118b09c297",
   "metadata": {},
   "outputs": [],
   "source": [
    "import requests\n",
    "endpoint = 'https://permapeople.org/api/plants'\n",
    "params = {\n",
    "'x-permapeople-key-id': 'EUnQrVlZ5Jl7',\n",
    "'x-permapeople-key-secret': api_key}"
   ]
  },
  {
   "cell_type": "code",
   "execution_count": null,
   "id": "45255c7b-5a02-46fb-a849-07d89c05e6c8",
   "metadata": {},
   "outputs": [],
   "source": [
    "response = requests.get(endpoint, headers = params)"
   ]
  },
  {
   "cell_type": "code",
   "execution_count": null,
   "id": "cd7c7af2-207e-4ca8-93df-7b52a67ccf7e",
   "metadata": {
    "jupyter": {
     "source_hidden": true
    }
   },
   "outputs": [],
   "source": [
    "response"
   ]
  },
  {
   "cell_type": "code",
   "execution_count": null,
   "id": "d6222c9c-b542-4a33-85ec-43f8835e1692",
   "metadata": {},
   "outputs": [],
   "source": [
    "import json\n",
    "res = response.json()"
   ]
  },
  {
   "cell_type": "code",
   "execution_count": null,
   "id": "8a6869a8-6228-4436-8b9b-6c7a016f82d3",
   "metadata": {},
   "outputs": [],
   "source": [
    "import pandas as pd\n",
    "res_df['data']"
   ]
  },
  {
   "cell_type": "code",
   "execution_count": null,
   "id": "221bd219-be72-49f9-b371-bf21910c7572",
   "metadata": {},
   "outputs": [],
   "source": [
    "res_df = pd.json_normalize(res['plants'])\n",
    "res_df['new_data'] = \"[{'name': '\" + res_df['name'] + \"', \" + res_df['data'].astype(str).str.replace('[{','')\n",
    "res_df['new_data']"
   ]
  },
  {
   "cell_type": "code",
   "execution_count": null,
   "id": "e6a72c3f-8008-4585-b74f-6637fd462e11",
   "metadata": {},
   "outputs": [],
   "source": [
    "pd.json_normalize(res_df.explode('new_data')['new_data']).head(44)\n"
   ]
  },
  {
   "cell_type": "code",
   "execution_count": null,
   "id": "1eaa893f-48c2-4362-835f-a63408850db1",
   "metadata": {},
   "outputs": [],
   "source": []
  },
  {
   "cell_type": "code",
   "execution_count": null,
   "id": "16c1d424-9801-4969-a491-376be13a567f",
   "metadata": {},
   "outputs": [],
   "source": []
  }
 ],
 "metadata": {
  "kernelspec": {
   "display_name": "Python [conda env:base] *",
   "language": "python",
   "name": "conda-base-py"
  },
  "language_info": {
   "codemirror_mode": {
    "name": "ipython",
    "version": 3
   },
   "file_extension": ".py",
   "mimetype": "text/x-python",
   "name": "python",
   "nbconvert_exporter": "python",
   "pygments_lexer": "ipython3",
   "version": "3.12.7"
  }
 },
 "nbformat": 4,
 "nbformat_minor": 5
}
