{
 "cells": [
  {
   "cell_type": "code",
   "execution_count": 1,
   "id": "d9a441ff-b57a-484b-8075-4f5824de9b02",
   "metadata": {},
   "outputs": [
    {
     "data": {
      "text/plain": [
       "True"
      ]
     },
     "execution_count": 1,
     "metadata": {},
     "output_type": "execute_result"
    }
   ],
   "source": [
    "from dotenv import load_dotenv\n",
    "load_dotenv()"
   ]
  },
  {
   "cell_type": "code",
   "execution_count": 2,
   "id": "d6766e07-4bce-43ec-be30-361530762bc4",
   "metadata": {},
   "outputs": [
    {
     "name": "stdout",
     "output_type": "stream",
     "text": [
      "8bf0fafd-b557-45a6-91eb-e0255318d048\n"
     ]
    }
   ],
   "source": [
    "import os\n",
    "\n",
    "api_key = os.getenv('PP_API_KEY')\n",
    "print(api_key)"
   ]
  },
  {
   "cell_type": "code",
   "execution_count": 3,
   "id": "207c42ac-f1f7-43e6-8221-6e118b09c297",
   "metadata": {},
   "outputs": [],
   "source": [
    "import requests\n",
    "endpoint = 'https://permapeople.org/api/plants'\n",
    "params = {\n",
    "'x-permapeople-key-id': 'EUnQrVlZ5Jl7',\n",
    "'x-permapeople-key-secret': api_key}"
   ]
  },
  {
   "cell_type": "code",
   "execution_count": 4,
   "id": "45255c7b-5a02-46fb-a849-07d89c05e6c8",
   "metadata": {},
   "outputs": [],
   "source": [
    "response = requests.get(endpoint, headers = params)"
   ]
  },
  {
   "cell_type": "code",
   "execution_count": 5,
   "id": "cd7c7af2-207e-4ca8-93df-7b52a67ccf7e",
   "metadata": {},
   "outputs": [
    {
     "data": {
      "text/plain": [
       "<Response [200]>"
      ]
     },
     "execution_count": 5,
     "metadata": {},
     "output_type": "execute_result"
    }
   ],
   "source": [
    "response"
   ]
  },
  {
   "cell_type": "code",
   "execution_count": 6,
   "id": "d6222c9c-b542-4a33-85ec-43f8835e1692",
   "metadata": {},
   "outputs": [],
   "source": [
    "import json\n",
    "res = response.json()"
   ]
  },
  {
   "cell_type": "code",
   "execution_count": 43,
   "id": "8a6869a8-6228-4436-8b9b-6c7a016f82d3",
   "metadata": {},
   "outputs": [
    {
     "data": {
      "text/plain": [
       "0     [{'key': 'USDA Hardiness zone', 'value': '2-11...\n",
       "1     [{'key': 'USDA Hardiness zone', 'value': '3-9'...\n",
       "2     [{'key': 'Life cycle', 'value': 'Annual'}, {'k...\n",
       "3     [{'key': 'USDA Hardiness zone', 'value': '4-9'...\n",
       "4     [{'key': 'USDA Hardiness zone', 'value': '2-11...\n",
       "                            ...                        \n",
       "95    [{'key': 'Wikipedia', 'value': 'https://en.wik...\n",
       "96    [{'key': 'USDA Hardiness zone', 'value': '3-8'...\n",
       "97    [{'key': 'Wikipedia', 'value': 'https://en.wik...\n",
       "98    [{'key': 'USDA Hardiness zone', 'value': '3-9'...\n",
       "99    [{'key': 'USDA Hardiness zone', 'value': '5-9'...\n",
       "Name: data, Length: 100, dtype: object"
      ]
     },
     "execution_count": 43,
     "metadata": {},
     "output_type": "execute_result"
    }
   ],
   "source": [
    "import pandas as pd\n",
    "res_df['data']"
   ]
  },
  {
   "cell_type": "code",
   "execution_count": 37,
   "id": "221bd219-be72-49f9-b371-bf21910c7572",
   "metadata": {},
   "outputs": [
    {
     "data": {
      "text/plain": [
       "0     [{'name': 'Squash', 'key': 'USDA Hardiness zon...\n",
       "1     [{'name': 'Pea', 'key': 'USDA Hardiness zone',...\n",
       "2     [{'name': 'Cucamelon', 'key': 'Life cycle', 'v...\n",
       "3     [{'name': 'Red mulberry', 'key': 'USDA Hardine...\n",
       "4     [{'name': 'Common bean', 'key': 'USDA Hardines...\n",
       "                            ...                        \n",
       "95    [{'name': 'Osage orange', 'key': 'Wikipedia', ...\n",
       "96    [{'name': 'Apple', 'key': 'USDA Hardiness zone...\n",
       "97    [{'name': 'Medlar', 'key': 'Wikipedia', 'value...\n",
       "98    [{'name': 'White mulberry', 'key': 'USDA Hardi...\n",
       "99    [{'name': 'Black mulberry', 'key': 'USDA Hardi...\n",
       "Name: new_data, Length: 100, dtype: object"
      ]
     },
     "execution_count": 37,
     "metadata": {},
     "output_type": "execute_result"
    }
   ],
   "source": [
    "res_df = pd.json_normalize(res['plants'])\n",
    "res_df['new_data'] = \"[{'name': '\" + res_df['name'] + \"', \" + res_df['data'].astype(str).str.replace('[{','')\n",
    "res_df['new_data']"
   ]
  },
  {
   "cell_type": "code",
   "execution_count": 41,
   "id": "e6a72c3f-8008-4585-b74f-6637fd462e11",
   "metadata": {},
   "outputs": [
    {
     "data": {
      "text/html": [
       "<div>\n",
       "<style scoped>\n",
       "    .dataframe tbody tr th:only-of-type {\n",
       "        vertical-align: middle;\n",
       "    }\n",
       "\n",
       "    .dataframe tbody tr th {\n",
       "        vertical-align: top;\n",
       "    }\n",
       "\n",
       "    .dataframe thead th {\n",
       "        text-align: right;\n",
       "    }\n",
       "</style>\n",
       "<table border=\"1\" class=\"dataframe\">\n",
       "  <thead>\n",
       "    <tr style=\"text-align: right;\">\n",
       "      <th></th>\n",
       "    </tr>\n",
       "  </thead>\n",
       "  <tbody>\n",
       "    <tr>\n",
       "      <th>0</th>\n",
       "    </tr>\n",
       "    <tr>\n",
       "      <th>1</th>\n",
       "    </tr>\n",
       "    <tr>\n",
       "      <th>2</th>\n",
       "    </tr>\n",
       "    <tr>\n",
       "      <th>3</th>\n",
       "    </tr>\n",
       "    <tr>\n",
       "      <th>4</th>\n",
       "    </tr>\n",
       "    <tr>\n",
       "      <th>5</th>\n",
       "    </tr>\n",
       "    <tr>\n",
       "      <th>6</th>\n",
       "    </tr>\n",
       "    <tr>\n",
       "      <th>7</th>\n",
       "    </tr>\n",
       "    <tr>\n",
       "      <th>8</th>\n",
       "    </tr>\n",
       "    <tr>\n",
       "      <th>9</th>\n",
       "    </tr>\n",
       "    <tr>\n",
       "      <th>10</th>\n",
       "    </tr>\n",
       "    <tr>\n",
       "      <th>11</th>\n",
       "    </tr>\n",
       "    <tr>\n",
       "      <th>12</th>\n",
       "    </tr>\n",
       "    <tr>\n",
       "      <th>13</th>\n",
       "    </tr>\n",
       "    <tr>\n",
       "      <th>14</th>\n",
       "    </tr>\n",
       "    <tr>\n",
       "      <th>15</th>\n",
       "    </tr>\n",
       "    <tr>\n",
       "      <th>16</th>\n",
       "    </tr>\n",
       "    <tr>\n",
       "      <th>17</th>\n",
       "    </tr>\n",
       "    <tr>\n",
       "      <th>18</th>\n",
       "    </tr>\n",
       "    <tr>\n",
       "      <th>19</th>\n",
       "    </tr>\n",
       "    <tr>\n",
       "      <th>20</th>\n",
       "    </tr>\n",
       "    <tr>\n",
       "      <th>21</th>\n",
       "    </tr>\n",
       "    <tr>\n",
       "      <th>22</th>\n",
       "    </tr>\n",
       "    <tr>\n",
       "      <th>23</th>\n",
       "    </tr>\n",
       "    <tr>\n",
       "      <th>24</th>\n",
       "    </tr>\n",
       "    <tr>\n",
       "      <th>25</th>\n",
       "    </tr>\n",
       "    <tr>\n",
       "      <th>26</th>\n",
       "    </tr>\n",
       "    <tr>\n",
       "      <th>27</th>\n",
       "    </tr>\n",
       "    <tr>\n",
       "      <th>28</th>\n",
       "    </tr>\n",
       "    <tr>\n",
       "      <th>29</th>\n",
       "    </tr>\n",
       "    <tr>\n",
       "      <th>30</th>\n",
       "    </tr>\n",
       "    <tr>\n",
       "      <th>31</th>\n",
       "    </tr>\n",
       "    <tr>\n",
       "      <th>32</th>\n",
       "    </tr>\n",
       "    <tr>\n",
       "      <th>33</th>\n",
       "    </tr>\n",
       "    <tr>\n",
       "      <th>34</th>\n",
       "    </tr>\n",
       "    <tr>\n",
       "      <th>35</th>\n",
       "    </tr>\n",
       "    <tr>\n",
       "      <th>36</th>\n",
       "    </tr>\n",
       "    <tr>\n",
       "      <th>37</th>\n",
       "    </tr>\n",
       "    <tr>\n",
       "      <th>38</th>\n",
       "    </tr>\n",
       "    <tr>\n",
       "      <th>39</th>\n",
       "    </tr>\n",
       "    <tr>\n",
       "      <th>40</th>\n",
       "    </tr>\n",
       "    <tr>\n",
       "      <th>41</th>\n",
       "    </tr>\n",
       "    <tr>\n",
       "      <th>42</th>\n",
       "    </tr>\n",
       "    <tr>\n",
       "      <th>43</th>\n",
       "    </tr>\n",
       "  </tbody>\n",
       "</table>\n",
       "</div>"
      ],
      "text/plain": [
       "Empty DataFrame\n",
       "Columns: []\n",
       "Index: [0, 1, 2, 3, 4, 5, 6, 7, 8, 9, 10, 11, 12, 13, 14, 15, 16, 17, 18, 19, 20, 21, 22, 23, 24, 25, 26, 27, 28, 29, 30, 31, 32, 33, 34, 35, 36, 37, 38, 39, 40, 41, 42, 43]"
      ]
     },
     "execution_count": 41,
     "metadata": {},
     "output_type": "execute_result"
    }
   ],
   "source": [
    "pd.json_normalize(res_df.explode('new_data')['new_data']).head(44)\n"
   ]
  },
  {
   "cell_type": "code",
   "execution_count": null,
   "id": "1eaa893f-48c2-4362-835f-a63408850db1",
   "metadata": {},
   "outputs": [],
   "source": []
  },
  {
   "cell_type": "code",
   "execution_count": null,
   "id": "16c1d424-9801-4969-a491-376be13a567f",
   "metadata": {},
   "outputs": [],
   "source": []
  }
 ],
 "metadata": {
  "kernelspec": {
   "display_name": "Python [conda env:base] *",
   "language": "python",
   "name": "conda-base-py"
  },
  "language_info": {
   "codemirror_mode": {
    "name": "ipython",
    "version": 3
   },
   "file_extension": ".py",
   "mimetype": "text/x-python",
   "name": "python",
   "nbconvert_exporter": "python",
   "pygments_lexer": "ipython3",
   "version": "3.12.7"
  }
 },
 "nbformat": 4,
 "nbformat_minor": 5
}
